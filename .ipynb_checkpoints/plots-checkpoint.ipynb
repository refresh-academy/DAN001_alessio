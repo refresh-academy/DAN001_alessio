{
 "cells": [
  {
   "cell_type": "code",
   "execution_count": 1,
   "id": "1172e185-a5ce-42c0-af07-8c8f8559e1f5",
   "metadata": {},
   "outputs": [],
   "source": [
    "players = [\"Gigi\", \"Terry\", \"Alice\", \"Giuditta\", \"Enrico\", \"Roberta\", \"Johanny\", \"Alessandro\", \"Alessia\", \"Rafael\", \"Giorgio\", \"Dimitri\", \"Alessio\", \"Luca\", \"Hamza\"]\n",
    "data_1609 = [72, 54, 44, 35, 44, 39, 32, 24, 32, 29, 20, 35, 0, 0, 0]\n",
    "data_1709 = [0, 48, 44, 31, 41, 0, 29, 22, 37, 46, 27, 16, 38, 25, 0]"
   ]
  },
  {
   "cell_type": "code",
   "execution_count": 2,
   "id": "be6290c8-b6ee-4f68-a847-b01c822a5c0e",
   "metadata": {},
   "outputs": [
    {
     "data": {
      "text/plain": [
       "30.666666666666668"
      ]
     },
     "execution_count": 2,
     "metadata": {},
     "output_type": "execute_result"
    }
   ],
   "source": [
    "media_1609 = sum(data_1609)/len(data_1609)\n",
    "media_1609"
   ]
  },
  {
   "cell_type": "code",
   "execution_count": 3,
   "id": "bd3f26cb-0b7d-41d3-8511-89edb634cda6",
   "metadata": {},
   "outputs": [
    {
     "name": "stdout",
     "output_type": "stream",
     "text": [
      "41 True\n",
      "0 False\n",
      "-1 False\n",
      "0.5 True\n",
      "alessia > alessio False\n"
     ]
    }
   ],
   "source": [
    "def maggiore_di_zero(x):\n",
    "    return x > 0\n",
    "\n",
    "print(41, maggiore_di_zero(41))\n",
    "print(0, maggiore_di_zero(0))\n",
    "print(-1, maggiore_di_zero(-1))\n",
    "print(0.5, maggiore_di_zero(0.5))\n",
    "# proviamo a confrontare due stringhe\n",
    "print(\"alessia > alessio\", \"alessia\" > \"alessio\")"
   ]
  },
  {
   "cell_type": "code",
   "execution_count": 4,
   "id": "487a5acf-4931-4ef8-a513-3a825c5410b6",
   "metadata": {},
   "outputs": [
    {
     "name": "stdout",
     "output_type": "stream",
     "text": [
      "[72, 54, 44, 35, 44, 39, 32, 24, 32, 29, 20, 35]\n",
      "38.333333333333336\n"
     ]
    }
   ],
   "source": [
    "wpm_1609 = list(filter(maggiore_di_zero, data_1609))\n",
    "print(wpm_1609)\n",
    "media_1609 = sum(wpm_1609)/len(wpm_1609)\n",
    "print(media_1609)"
   ]
  },
  {
   "cell_type": "code",
   "execution_count": null,
   "id": "6ac3e50e-41fa-4ec2-af03-82e2e131188d",
   "metadata": {},
   "outputs": [],
   "source": []
  }
 ],
 "metadata": {
  "kernelspec": {
   "display_name": "Python 3 (ipykernel)",
   "language": "python",
   "name": "python3"
  },
  "language_info": {
   "codemirror_mode": {
    "name": "ipython",
    "version": 3
   },
   "file_extension": ".py",
   "mimetype": "text/x-python",
   "name": "python",
   "nbconvert_exporter": "python",
   "pygments_lexer": "ipython3",
   "version": "3.13.7"
  }
 },
 "nbformat": 4,
 "nbformat_minor": 5
}
